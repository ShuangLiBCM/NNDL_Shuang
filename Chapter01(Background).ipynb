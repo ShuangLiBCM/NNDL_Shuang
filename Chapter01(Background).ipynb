{
 "cells": [
  {
   "cell_type": "code",
   "execution_count": 1,
   "metadata": {
    "collapsed": false
   },
   "outputs": [
    {
     "name": "stdout",
     "output_type": "stream",
     "text": [
      "Populating the interactive namespace from numpy and matplotlib\n"
     ]
    }
   ],
   "source": [
    "%pylab inline"
   ]
  },
  {
   "cell_type": "markdown",
   "metadata": {},
   "source": [
    "## Perceptrons"
   ]
  },
  {
   "cell_type": "markdown",
   "metadata": {},
   "source": [
    "Perceptron was developed by Frank Rosenblatt, and it's one of the earliest kinds of *neural network*."
   ]
  },
  {
   "cell_type": "markdown",
   "metadata": {},
   "source": [
    "Much of the *neurons* model we'll encounter is *sigmoid neuron*."
   ]
  },
  {
   "cell_type": "markdown",
   "metadata": {},
   "source": [
    "### What's a perceptron?"
   ]
  },
  {
   "cell_type": "markdown",
   "metadata": {},
   "source": [
    "A perceptron unit has multiple inputs $x_1, x_2, \\ldots,$ and produces a single binary output. How is the binary output computed from the inputs? Each of the input is weighted by respective weights $w_1, w_2, \\ldots,$, and the neuron's output (0 or 1) is determiend by comparing the weighted sum $\\sum_j{w_j x_j}$ against a *threshold* $\\theta$."
   ]
  },
  {
   "cell_type": "markdown",
   "metadata": {},
   "source": [
    "Expressed more concisely,\n",
    "\n",
    "\n",
    "$$\n",
    "\\text{output}= \n",
    "\\begin{cases}\n",
    "    0, & \\text{if } \\sum_j{w_j x_j} \\leq \\theta\\\\\n",
    "    1, & \\text{if } \\sum_j{w_j x_j} \\gt \\theta\n",
    "\\end{cases}\n",
    "$$"
   ]
  },
  {
   "cell_type": "markdown",
   "metadata": {},
   "source": [
    "The above expression can be further simplified by evaluating $\\sum_j{w_j x_j} = w \\cdot x$ and also reexpressing the inequality as that involving $w\\cdot x - \\theta = w\\cdot x + b$ where $b = -\\theta$.\n",
    "\n"
   ]
  },
  {
   "cell_type": "markdown",
   "metadata": {},
   "source": [
    "$$\n",
    "\\text{output}= \n",
    "\\begin{cases}\n",
    "    0, & \\text{if } w\\cdot x + b \\leq 0\\\\\n",
    "    1, & \\text{if } w\\cdot x + b \\gt 0\n",
    "\\end{cases}\n",
    "$$"
   ]
  },
  {
   "cell_type": "markdown",
   "metadata": {},
   "source": [
    "Here $b$ is the *bias* and can be thought of as the propensity for perceptron unit to fire."
   ]
  },
  {
   "cell_type": "markdown",
   "metadata": {},
   "source": [
    "### Example: NAND gates"
   ]
  },
  {
   "cell_type": "markdown",
   "metadata": {},
   "source": [
    "A perceptron with two inputs $x_1$ and $x_2$ can be made to act as a *NAND* gate by setting both $w_1=w_2=-2$ and $b=3$."
   ]
  },
  {
   "cell_type": "markdown",
   "metadata": {},
   "source": [
    "With this, you can see that the output is $1$ (*true*), for $(x_1, x_2)$ values of $(0, 0)$, $(1, 0)$, and $(0, 1)$, but *not* for $(1, 1)$! This is precisely the behavior of a NAND logic gate."
   ]
  },
  {
   "cell_type": "markdown",
   "metadata": {},
   "source": [
    "The fact a perceptron unit can be turned into a NAND gate suggests that with enough such neuronal units, any logic circuit can be realized in perceptrons!"
   ]
  },
  {
   "cell_type": "markdown",
   "metadata": {},
   "source": [
    "### Learning parameters"
   ]
  },
  {
   "cell_type": "markdown",
   "metadata": {},
   "source": [
    "Althought the fact that perceptrons can perform everything a computer can do is a pretty cool finding in its own right, it still doesn't suggest exactly how we can build a network that achieves a desired computation. Ideally, we would like for the perceptrons to *learn*, by correctly adjusting the weights $w$ and bias $b$."
   ]
  },
  {
   "cell_type": "markdown",
   "metadata": {},
   "source": [
    "To make learning tractable, we would like it such that a *small change* in parameters (i.e. $w$ and $b$) leads to *small change* in the output.\n",
    "\n",
    "Only problem is that perceptrons as we have it now, does *not* have such a property! In fact, a small changes in the weights $w$ or bias $b$ can cause the output of the perceptrons to flip from 0 to 1 in the second layer, which can subsequently lead to flips and flops throughout the network."
   ]
  },
  {
   "cell_type": "markdown",
   "metadata": {},
   "source": [
    "Such drastic changes resulting from a small changes in the parameter makes learning very problematic. However, this problem can be mitigated by employing a slightly different kind of neuron called *sigmoid* neuron. In particular, sigmoid neurons have the desired feature of small changes in parameters leading to small changes in the output. Let's see how that works out."
   ]
  },
  {
   "cell_type": "markdown",
   "metadata": {},
   "source": [
    "### Sigmoid neurons"
   ]
  },
  {
   "cell_type": "markdown",
   "metadata": {},
   "source": [
    "Just like a perceptron, a sigmoid neuron has inputs $x_1, x_2, \\ldots$. However, instead of only takeing a binary value of 0 or 1, the input (and as you'll see, the output) can take on any values between 0 and 1. Just like in the case of a perceptron, sigmoid neurons have weights $w_1, w_2, \\ldots$ that multiply onto the inputs and a bias term $b$. However, the output is not binary value obtained by thresholding $w\\cdot x + b$. Rather, the quantity $w\\cdot x + b$ is run through the *sigmoid function* $\\sigma(z)$ defined as:\n",
    "\n",
    "$$\n",
    "\\sigma(z) = \\frac{1}{1 + e^{-z}}\n",
    "$$"
   ]
  },
  {
   "cell_type": "markdown",
   "metadata": {},
   "source": [
    "Putting it all togeter, the output of a sigmoid neuron with inputs $x_1, x_2, \\ldots$ with weights $w_1, w_2, \\ldots$ and bias $b$ is:\n",
    "\n",
    "$$\n",
    "\\text{output} = \\frac{1}{1 + \\exp(-\\sum_j{w_j x_j} - b)}\n",
    "$$"
   ]
  },
  {
   "cell_type": "markdown",
   "metadata": {},
   "source": [
    "To get a better idea of sigmoid function, let's plot it out!"
   ]
  },
  {
   "cell_type": "code",
   "execution_count": 25,
   "metadata": {
    "collapsed": false
   },
   "outputs": [
    {
     "data": {
      "text/plain": [
       "(-0.1, 1.1)"
      ]
     },
     "execution_count": 25,
     "metadata": {},
     "output_type": "execute_result"
    },
    {
     "data": {
      "image/png": "[encoded data removed]",
      "text/plain": [
       "<matplotlib.figure.Figure at 0x1103265f8>"
      ]
     },
     "metadata": {},
     "output_type": "display_data"
    }
   ],
   "source": [
    "z = linspace(-10, 10, 100)\n",
    "output = 1 / (1 + exp(-z))\n",
    "perceptron = z > 0\n",
    "plot(z, output, label='sigmoid')\n",
    "plot(z, perceptron, label='perceptron')\n",
    "legend(loc='best')\n",
    "xlabel('$z = w \\cdot x + b$', fontsize=14)\n",
    "ylabel('output')\n",
    "ylim(-0.1, 1.1)"
   ]
  },
  {
   "cell_type": "markdown",
   "metadata": {},
   "source": [
    "In the plot above, the x-axis is the value of the sum of weighted input and the bias ($z = w \\cdot x + b$). The expected output of the perceptron (green) highlights the *jumpy* nature of the perceptron response, with a sharp boundary at $z=0$."
   ]
  },
  {
   "cell_type": "markdown",
   "metadata": {},
   "source": [
    "Sigmoid neuron (blue), on the other hand, has a much more smooth and gradual transition between 0 and 1. From this it can be seen that sigmoid neuron is essentially a smoothened out version of the perceptron."
   ]
  },
  {
   "cell_type": "markdown",
   "metadata": {},
   "source": [
    "As you might have guessed by my mention of *small changes*, the smoothness in the sigmoid neuron's output renders the function *differentiable*. This means that with a small change in the weights $\\Delta w$ and bias $\\Delta b$, there is a small change in the output $\\Delta y$ that can be approximated as:"
   ]
  },
  {
   "cell_type": "markdown",
   "metadata": {},
   "source": [
    "$$\n",
    "\\Delta y \\approx \\sum_j\\frac{\\partial y}{\\partial w_j}\\Delta w_j + \\frac{\\partial y}{\\partial b}\\Delta b\n",
    "$$"
   ]
  },
  {
   "cell_type": "markdown",
   "metadata": {},
   "source": [
    "In other words, the smoothness (differentialibility) of the sigmoid function $\\sigma(z)$ allows us to approximate the change in output, $\\Delta y$ as (locally) linear functions of the changes in parameters, $\\Delta w$ and $\\Delta b$!"
   ]
  },
  {
   "cell_type": "markdown",
   "metadata": {},
   "source": [
    "Before we move on, let's introduce some terminology in to the game. The sigmoid function $\\sigma(z) = \\sigma(w \\cdot x + b)$ is *an example* of an *activation function* $f(\\cdot)$. We can generalize both the perceptrons and sigmoid neurons as a network where the output $y = f(z) = f(w \\cdot x + b)$ for some choice of activation function $f(\\cdot)$. Obviously, choosing $f(z) = \\sigma(z) = \\frac{1}{1 + e^{-z}}$ renders the neuron a *sigmoid neuron*. Alternatively, choosing $f(\\cdot)$ to be a step function,\n",
    "\n",
    "$$\n",
    "f(z)= \n",
    "\\begin{cases}\n",
    "    0, & z \\leq 0\\\\\n",
    "    1, & z \\gt 0\n",
    "\\end{cases}\n",
    "$$\n",
    "\n",
    "renders the neuron a *perceptron*!"
   ]
  },
  {
   "cell_type": "markdown",
   "metadata": {},
   "source": [
    "### Choice of activation function $f(\\cdot)$"
   ]
  },
  {
   "cell_type": "markdown",
   "metadata": {},
   "source": [
    "In fact, as long as $f(\\cdot)$ is smooth and differentiable, the locally linear relationship between changes in the parameters ($w$ and $b$) and the output ($y$) holds true. Then why use sigmoid function? This has a lot to do with the differentiated form of the sigmoid function."
   ]
  },
  {
   "cell_type": "markdown",
   "metadata": {},
   "source": [
    "\\begin{align}\n",
    "\\frac{d\\sigma(z)}{dz} &= \\frac{d}{dz}\\frac{1}{1 + e^-z} \\\\\n",
    "&= \\frac{e^{-z}}{(1+e^{-z})^2}\n",
    "\\end{align}"
   ]
  },
  {
   "cell_type": "markdown",
   "metadata": {},
   "source": [
    "Now note that:\n",
    "\n",
    "$$\n",
    "1 - \\sigma(z) = 1 - \\frac{1}{1 + e^{-z}} = \\frac{e^{-z}}{1 + e^{-z}}\n",
    "$$"
   ]
  },
  {
   "cell_type": "markdown",
   "metadata": {},
   "source": [
    "Hence, above derivative can be reexpressed as follows:\n",
    "\n",
    "$$\n",
    "\\frac{d\\sigma(z)}{dz} = \\frac{1}{1+e^{-z}} \\frac{e^{-z}}{1+e^{-z}} = \\sigma(z) (1 - \\sigma(z))\n",
    "$$"
   ]
  },
  {
   "cell_type": "markdown",
   "metadata": {},
   "source": [
    "We'll come back to this when we start using these derivatives of activation function to optimize the parameters for the network!"
   ]
  },
  {
   "cell_type": "markdown",
   "metadata": {},
   "source": [
    "### Interpretation of output"
   ]
  },
  {
   "cell_type": "markdown",
   "metadata": {},
   "source": [
    "A notable differnce of a sigmoid neuron from a perceptron is that the output is no longer binary, but rather takes on any value between 0 and 1. How shoudl we interpret it?"
   ]
  },
  {
   "cell_type": "markdown",
   "metadata": {},
   "source": [
    "Interpretation of the output of such *continout* neuron unit really depends on context. If the output is supposed to be a pixel intensity, then the continous value can be mapped out to the grayscale on the pixel. However, if the output *is* supposed to be a binary (e.g. presence or absence of a face in the image), then we can appply thresholding on the output variable (e.g. at 0.5) to *convert* the output into a binary value."
   ]
  },
  {
   "cell_type": "markdown",
   "metadata": {},
   "source": [
    "## Exercises"
   ]
  },
  {
   "cell_type": "markdown",
   "metadata": {},
   "source": [
    "#### Multiplication of $w$ and $b$ by a positive constant in perceptrons"
   ]
  },
  {
   "cell_type": "markdown",
   "metadata": {},
   "source": [
    "Given a perceptron with weights $w$ and bias $b$, multiplying both of these by a positive constant $c$ does *not* alter the perceptron's behavior (output) in response to any input. This can easily be seen by comparing the behavior of the original perceptron against a perceptron with all weights and bias multiplied by $c$ such that $\\hat{w} = cw$ and $\\hat{b} = cb$. Given some arbitrary input $x$, the original perceptron's output $y$ is determined as in :"
   ]
  },
  {
   "cell_type": "markdown",
   "metadata": {},
   "source": [
    "$$\n",
    "y =\n",
    "\\begin{cases}\n",
    "0, & \\sum_j{w_j x_j} + b \\leq 0 \\\\\n",
    "1, & \\sum_j{w_j x_j} + b \\gt 0\n",
    "\\end{cases}\n",
    "$$"
   ]
  },
  {
   "cell_type": "markdown",
   "metadata": {},
   "source": [
    "Similarly, the output of the modified perceptron $\\hat{y}$ to the same input can be determined as in:"
   ]
  },
  {
   "cell_type": "markdown",
   "metadata": {},
   "source": [
    "$$\n",
    "\\hat{y} =\n",
    "\\begin{cases}\n",
    "0, & \\sum_j{c w_j x_j} + c b \\leq 0 \\\\\n",
    "1, & \\sum_j{c w_j x_j} + c b \\gt 0\n",
    "\\end{cases}\n",
    "$$"
   ]
  },
  {
   "cell_type": "markdown",
   "metadata": {},
   "source": [
    "which can be rewritten as:"
   ]
  },
  {
   "cell_type": "markdown",
   "metadata": {},
   "source": [
    "$$\n",
    "\\hat{y} =\n",
    "\\begin{cases}\n",
    "0, & c(\\sum_j{w_j x_j} +  b) \\leq 0 \\\\\n",
    "1, & c(\\sum_j{w_j x_j} +  b) \\gt 0\n",
    "\\end{cases}\n",
    "$$"
   ]
  },
  {
   "cell_type": "markdown",
   "metadata": {},
   "source": [
    "But notice that, given $c > 0$,\n",
    "\n",
    "$$\n",
    "c\\left(\\sum_j{w_j x_j} + b\\right) \\leq 0 \\iff \\sum_j{w_j x_j} + b \\leq 0\n",
    "$$"
   ]
  },
  {
   "cell_type": "markdown",
   "metadata": {},
   "source": [
    "and therefore,"
   ]
  },
  {
   "cell_type": "markdown",
   "metadata": {},
   "source": [
    "$$\n",
    "c\\left(\\sum_j{w_j x_j} + b\\right) \\gt 0 \\iff \\sum_j{w_j x_j} + b \\gt 0\n",
    "$$"
   ]
  },
  {
   "cell_type": "markdown",
   "metadata": {},
   "source": [
    "Thus, the output of original and the modified perceptron will be the same for any input. provided that the input to the first layer remains the same, the all outputs of the modified perceptrons on the first layer don't change from scaliing with $c > 0$. Since the output of the first layer is the input to the second and it again is unchanged, it can be seen (by induction), that multiplying all parameters of a perceptron by a positive constant do *not* alter the network."
   ]
  },
  {
   "cell_type": "markdown",
   "metadata": {},
   "source": [
    "#### Multiplication of $w$ and $b$ by a positive constant in sigmoid neurons"
   ]
  },
  {
   "cell_type": "markdown",
   "metadata": {},
   "source": [
    "Provided that all sigmoid neurons have non-zero $w \\cdot x + b$ for a particular input $x$, the output of a sigmoid neuron is:\n",
    "\n",
    "$$\n",
    "y = \\sigma(w \\cdot x + b) = \\frac{1}{1 + \\exp(-w \\cdot x - b)}\n",
    "$$"
   ]
  },
  {
   "cell_type": "markdown",
   "metadata": {},
   "source": [
    "Now, if we scale both $w$ and $b$ by a positive constant, $c > 0$,"
   ]
  },
  {
   "cell_type": "markdown",
   "metadata": {},
   "source": [
    "$$\n",
    "\\hat{y} = \\sigma(cw \\cdot x + cb) = \\frac{1}{1 + \\exp(-c(w \\cdot x + b))}\n",
    "$$"
   ]
  },
  {
   "cell_type": "markdown",
   "metadata": {},
   "source": [
    "As we increase the value of $c$: $c \\to \\infty$"
   ]
  },
  {
   "cell_type": "markdown",
   "metadata": {},
   "source": [
    "$$\n",
    "\\begin{align}\n",
    "\\lim_{c \\to \\infty} \\hat{y} &= \\lim_{c \\to \\infty} \\frac{1}{1 + \\exp(c(w \\cdot x + b))} \\\\\n",
    "&=\n",
    "\\begin{cases}\n",
    "0, & \\text{if } w \\cdot x + b \\lt 0 \\\\\n",
    "1, & \\text{if } w \\cdot x + b \\gt 0\n",
    "\\end{cases}\n",
    "\\end{align}\n",
    "$$"
   ]
  },
  {
   "cell_type": "markdown",
   "metadata": {},
   "source": [
    "Hence, it can be seen that the output $\\hat{y}$ approaches a step function based on the value of $w \\cdot x + b$ and is exactly equal to a perceptron!"
   ]
  },
  {
   "cell_type": "markdown",
   "metadata": {},
   "source": [
    "Now what if $wx + b = 0$? From above expressions, it can be seen that,\n",
    "\n",
    "$$\n",
    "\\hat{y} = \\sigma(c \\cdot 0) = \\frac{1}{2}\n",
    "$$\n",
    "\n",
    "and it does not depend on the value of $c$ at all. Hence, if some of the sigmoid neurons equals to $0$ for a value of $x$, that perceptron will always yield 0.5 regardless of the value of scaling factor $c$ and thus does *not* approach the behavior of a perceptron which should be 0 in this case."
   ]
  },
  {
   "cell_type": "markdown",
   "metadata": {},
   "source": [
    "###  Architecture of neural networks"
   ]
  },
  {
   "cell_type": "markdown",
   "metadata": {},
   "source": [
    "When drawing and describing neural networks, it is helpful to know certain terminologies to describe parts of the network."
   ]
  },
  {
   "cell_type": "markdown",
   "metadata": {},
   "source": [
    "In drawing neural network, the network is typically arranged in such way that information flows from *left to right*. Therefore, the left end corresponds to the input into the network, whereas the right end corresponds to the output of the network. Under this configuration, the left most layer of neurons are referred to as *input neurons*. Correspondingly, the right most layer of neurons are the *output neurons*.\n",
    "The middle layers (those that are nither input nor output) are called *hidden layer*."
   ]
  },
  {
   "cell_type": "markdown",
   "metadata": {},
   "source": [
    "Confusingly, such multilayer neural networks may be referred to as multilayer perceptrons (MLP) despite the fact that the network is not composed of perceptrons but rather with sigmoid neurons. This reference exists for largely historical reasons, and it is best avoided (although should be aware of it)."
   ]
  },
  {
   "cell_type": "markdown",
   "metadata": {},
   "source": [
    "All networks that will be covered in this book are *feedforward* networks - information only flows forward and never backward. Graphically speaking, this means there cannot be any loops in the network graph."
   ]
  },
  {
   "cell_type": "markdown",
   "metadata": {},
   "source": [
    "There exists a class of neural networks where such loops are allowed and these are known as *recurrent neural networks*. In such networks, the trick is to separate the activation of units in time, such that there is a delay between an input layer firing and the subsequent layer collecting and responding to the inputs."
   ]
  },
  {
   "cell_type": "markdown",
   "metadata": {},
   "source": [
    "## Handwritten digit classification - simple network"
   ]
  },
  {
   "cell_type": "markdown",
   "metadata": {},
   "source": [
    "Now that we got the basic network lingos covered, it's time to *build* a network that does something useful, and we'll start by tacking the famous handwritten digit classification problem."
   ]
  },
  {
   "cell_type": "markdown",
   "metadata": {},
   "source": [
    "The problem can be divided into two parts. First is the *image segmentation*, where an image of multiple digits (e.g. 8432) needs to be split into smaller images each containing only one digit (e.g. 8, 4, 3, and 2)."
   ]
  },
  {
   "cell_type": "markdown",
   "metadata": {},
   "source": [
    "The second is, of course, the *classification* of the digits into one of the ten possible categories."
   ]
  },
  {
   "cell_type": "markdown",
   "metadata": {},
   "source": [
    "#### Exercise"
   ]
  },
  {
   "cell_type": "markdown",
   "metadata": {},
   "source": [
    "To solve the problem of turning on the binary digit in response to the readout, we have to consider when does each digit need to be turned on. To see this, let's write out the 4-bit binary representation of the numbers 0-9:\n",
    "\n",
    "* 0: 0000\n",
    "* 1: 0001\n",
    "* 2: 0010\n",
    "* 3: 0011\n",
    "* 4: 0100\n",
    "* 5: 0101\n",
    "* 6: 0110\n",
    "* 7: 0111\n",
    "* 8: 1000\n",
    "* 9: 1001"
   ]
  },
  {
   "cell_type": "markdown",
   "metadata": {},
   "source": [
    "Now let's reorganize when each bit is turned on.\n",
    "\n",
    "* bit 1 (least significant bit): 1, 3, 5, 7, and 9\n",
    "* bit 2: 2, 3, 6, and 7\n",
    "* bit 3: 4, 5, 6, and 7\n",
    "* bit 4 (most significant bit): 8 and 9"
   ]
  },
  {
   "cell_type": "markdown",
   "metadata": {},
   "source": [
    "The weight for each unit should look something like this:\n",
    "\n",
    "* bit 1: w = k [0, 1, 0, 1, 0, 1, 0, 1, 0, 1]\n",
    "* bit 2: w = k [0, 0, 1, 1, 0, 0, 1, 1, 0, 0]\n",
    "* bit 3: w = k [0, 0, 0, 0, 1, 1, 1, 1, 0, 0]\n",
    "* bit 4: w = k [0, 0, 0, 0, 0, 0, 0, 0, 1, 1]\n",
    "\n",
    "with b = -0.5*k"
   ]
  },
  {
   "cell_type": "markdown",
   "metadata": {},
   "source": [
    "Where k is some positive constant."
   ]
  },
  {
   "cell_type": "markdown",
   "metadata": {},
   "source": [
    "Alternatively, we could use matrix computation to get the result."
   ]
  },
  {
   "cell_type": "markdown",
   "metadata": {},
   "source": [
    "We could solve for transfer matrix X and bias b, which give rise to \n",
    "aX + b = c. "
   ]
  },
  {
   "cell_type": "markdown",
   "metadata": {},
   "source": [
    "a is an 1 by 10 array given by activity from the old output layer. c is an 1 by 4 array representing activity of the new output layer.\n"
   ]
  },
  {
   "cell_type": "markdown",
   "metadata": {},
   "source": [
    "Therefore, if we need all the 0 - 9 values being correctly transfered to the binary output thorugh X and b, they will need to satisify AX + b =C. "
   ]
  },
  {
   "cell_type": "markdown",
   "metadata": {},
   "source": [
    "A is an 10 by 10 matrix indicating activity from the old output layer with 0 - 9 as the correct digits. Given the definition of the network, it's easy to see that A is an 10 by 10 identity matrix, i.e. I."
   ]
  },
  {
   "cell_type": "markdown",
   "metadata": {},
   "source": [
    "C is the response of the new output layer with 0 - 9 as the correct digits."
   ]
  },
  {
   "cell_type": "code",
   "execution_count": 25,
   "metadata": {
    "collapsed": false
   },
   "outputs": [
    {
     "name": "stdout",
     "output_type": "stream",
     "text": [
      "C =\n",
      "[[0 0 0 0]\n",
      " [0 0 0 1]\n",
      " [0 0 1 0]\n",
      " [0 0 1 1]\n",
      " [0 1 0 0]\n",
      " [0 1 0 1]\n",
      " [0 1 1 0]\n",
      " [0 1 1 1]\n",
      " [1 0 0 0]\n",
      " [1 0 0 1]]\n"
     ]
    }
   ],
   "source": [
    "import numpy as np\n",
    "\n",
    "c = np.matrix('0 0 0 0;0 0 0 1;0 0 1 0;0 0 1 1;0 1 0 0;0 1 0 1;0 1 1 0;0 1 1 1;1 0 0 0;1 0 0 1')\n",
    "print ('C =')\n",
    "print (c)"
   ]
  },
  {
   "cell_type": "markdown",
   "metadata": {},
   "source": [
    "Given that IX+b = X+b = C, X = C - b"
   ]
  },
  {
   "cell_type": "markdown",
   "metadata": {},
   "source": [
    "## Learning with gradient descent"
   ]
  },
  {
   "cell_type": "markdown",
   "metadata": {},
   "source": [
    "We'll quantify how well our neural network model is able to classify images of digits using a cost function:\n",
    "\n",
    "$$\n",
    "C(w, b) = \\frac{1}{2n} \\sum_x \\lVert y(x) - a\\rVert \n",
    "$$"
   ]
  },
  {
   "cell_type": "markdown",
   "metadata": {},
   "source": [
    "Where, $w$ is the collection of *all* weights for our neurons, and $b$ is the collection of *all* bias terms. $n$ is the total number of training inputs, and $a$ is the vector of outputs when $x$ is the input. $y(x)$ is the function that our network is trying to apprximate."
   ]
  },
  {
   "cell_type": "markdown",
   "metadata": {},
   "source": [
    "The cost function $C$ above will be referred to as the *quadratic* cost function. It's also commonly referred to as the *mean squared error* or *MSE*."
   ]
  },
  {
   "cell_type": "markdown",
   "metadata": {},
   "source": [
    "Looking at the cost function $C$, it's obvious that $C \\geq 0$ for all $x$, and that $C \\to 0$ only as $a \\to y(x)$ for all $x$."
   ]
  },
  {
   "cell_type": "markdown",
   "metadata": {},
   "source": [
    "Given this, the goal of *training* of our network is to minimize the above cost function, as a function of weights $w$ and biases $b$. To achieve this, we are going to use optimization algorightm known as *gradient descent*. "
   ]
  },
  {
   "cell_type": "markdown",
   "metadata": {},
   "source": [
    "#### Why quadratic cost function?"
   ]
  },
  {
   "cell_type": "markdown",
   "metadata": {},
   "source": [
    "You may be wondering why aren't we simply counting the number of images incorrectly classified rather than looking at a surrogate measure of the quadratic cost function. The problem with using the number of misses is that it's not a smooth function of the parameters $w$ and $b$. Using the number of misses, there will be many values of $w$ and $b$ for which small changes in $w$ and/or $b$ do *not* result in any difference in the cost, making it difficult for an algorithm to know how to modify the parameters to improve the performance (decrease the cost)."
   ]
  },
  {
   "cell_type": "markdown",
   "metadata": {},
   "source": [
    "If instead we use a smooth cost function such as the quadratic cost function, any small changes in the parameters will give rise to a small but noticeable difference in the cost, allowing for the algorithm to infer how to modify the parameter to improve the performance of the network."
   ]
  },
  {
   "cell_type": "markdown",
   "metadata": {},
   "source": [
    "#### Optimizing a 2D function"
   ]
  },
  {
   "cell_type": "markdown",
   "metadata": {},
   "source": [
    "Let's consider the case of minimizing a generic scalar output function first. We'll denote this function as $C(v)$ where $v=v_1, v_2, \\ldots$. We'll start by considering the case of 2D input: $v = (v_1, v_2)^T$"
   ]
  },
  {
   "cell_type": "markdown",
   "metadata": {},
   "source": [
    "With such a function, it might be tempting to try to solve the problem analytically - by finding values of parameters for which partial derivative $\\frac{\\partial C}{\\partial v_i} = 0$. Although this may work for a simple function, such method doesn't scale well with increasing number of input variables."
   ]
  },
  {
   "cell_type": "markdown",
   "metadata": {},
   "source": [
    "What do we do then? Turns out we can use our intuition about a ball rolling down hill to arrive at a method of fidning a minimum! We will randomly choose a starting point $(v_1^{(0)}, v_2^{(0)})^T$, and will *simulate* the motion of a hypothetical ball positioned there."
   ]
  },
  {
   "cell_type": "markdown",
   "metadata": {},
   "source": [
    "In essense, we want to move the ball such that it moves downward - that is to a position with a lower value of $C(v)$. To achieve this, let's use Calculus local linear approximation to the function:\n",
    "\n",
    "$$\n",
    "\\Delta C \\approx  \\frac{\\partial C}{\\partial v_1}\\Delta v_1 + \\frac{\\partial C}{\\partial v_2}\\Delta v_2\n",
    "$$"
   ]
  },
  {
   "cell_type": "markdown",
   "metadata": {},
   "source": [
    "where $\\frac{\\partial C}{\\partial v_1}$ and $\\frac{\\partial C}{\\partial v_2}$ are evaluated at the current location $(v_1^{(0)}, v_2^{(0)})^T$."
   ]
  },
  {
   "cell_type": "markdown",
   "metadata": {},
   "source": [
    "The notation can be simplified by vectorizing everything. Namely,\n",
    "\n",
    "$$\n",
    "\\Delta v = (\\Delta v_1, \\Delta v_2)^T\n",
    "$$\n",
    "\n",
    "and\n",
    "\n",
    "$$\n",
    "\\nabla C = \\left(\\frac{\\partial C}{\\partial v_1}, \\frac{\\partial C}{\\partial v_2}\\right)^T\n",
    "$$\n",
    "\n",
    "where $\\nabla C$ is of course the *gradient* of $C$ evaluated at current location."
   ]
  },
  {
   "cell_type": "markdown",
   "metadata": {},
   "source": [
    "Therefore, the above expression can be rewritten as:\n",
    "\n",
    "$$\n",
    "\\Delta C \\approx \\nabla C \\cdot \\Delta v\n",
    "$$"
   ]
  },
  {
   "cell_type": "markdown",
   "metadata": {},
   "source": [
    "If we wish to point $\\Delta v$ in the right direction so as to attain smallest (most negative) value of $\\Delta C$, then we should choose:\n",
    "\n",
    "$$\n",
    "\\Delta v = -\\eta \\nabla C\n",
    "$$\n",
    "\n",
    "where $\\eta$ is some small, positive parameter (known as the *learning rate*)."
   ]
  },
  {
   "cell_type": "markdown",
   "metadata": {},
   "source": [
    "With this choice of $\\Delta v$, we can see that\n",
    "\n",
    "$$\n",
    "\\Delta C \\approx -\\eta \\nabla C \\cdot \\nabla C = -\\eta \\lVert \\nabla C \\rVert ^2,\n",
    "$$\n",
    "\n",
    "guaranteeing $\\Delta C$ to be negative."
   ]
  },
  {
   "cell_type": "markdown",
   "metadata": {},
   "source": [
    "Given this *small* movement of the ball $\\Delta v$ that can decreases the value of $C$, we can compute the ball's next position as:\n",
    "\n",
    "$$\n",
    "v^{(i+1)} = v^{(i)} + \\Delta v = v^{(i)} - \\eta \\nabla C\n",
    "$$\n",
    "\n",
    "and this is called an *update rule* for $v$."
   ]
  },
  {
   "cell_type": "markdown",
   "metadata": {},
   "source": [
    "Note that in order for the above update function to work and keep yielding a new position for which $C(v^{i+1)}) \\leq C(v^{i})$, the learning rate $\\eta$ must be small enough to make the local linear approximation a good one. However, we also don't want to pick too small of a value of $\\eta$ as that could redner the learning algorithm very slow!"
   ]
  },
  {
   "cell_type": "markdown",
   "metadata": {},
   "source": [
    "The above *derivation* of gradient descent update rule can be easiy extneded to the case of a function with more than two variables. Suppose $C$ is a function of $m$ variables, $v_1, v_2, \\ldots, v_m$. The change in $C$, $\\Delta C$, for a *small change* $\\Delta v = (\\Delta v_1, \\Delta v_2, \\ldots, \\Delta v_m)^T$ is:\n",
    "\n",
    "$$\n",
    "\\Delta C = \\nabla C \\cdot \\Delta v\n",
    "$$\n",
    "\n",
    "just as before, where\n",
    "\n",
    "$$\n",
    "\\nabla C = \\left( \\frac{\\partial C}{\\partial v_1}, \\ldots, \\frac{\\partial C}{\\partial v_m} \\right)^T\n",
    "$$"
   ]
  },
  {
   "cell_type": "markdown",
   "metadata": {},
   "source": [
    "We can then choose\n",
    "\n",
    "$$\n",
    "\\Delta v = -\\eta \\nabla C\n",
    "$$\n",
    "\n",
    "and guarantee that (for small $\\eta$), $\\Delta C$ will be negative."
   ]
  },
  {
   "cell_type": "markdown",
   "metadata": {},
   "source": [
    "Hence, again, we can *update* the location as\n",
    "\n",
    "$$\n",
    "v^{(i+1)} = v^{(i)} + \\Delta v = v^{(i)} - \\eta \\nabla C\n",
    "$$"
   ]
  },
  {
   "cell_type": "markdown",
   "metadata": {},
   "source": [
    "#### Exercises"
   ]
  },
  {
   "cell_type": "markdown",
   "metadata": {},
   "source": [
    "We want to show that the choice of $\\Delta v$ is in a sense the optimal choice.\n",
    "\n",
    "Based on Cauchy-Schwartz inequality\n",
    "$$\n",
    "\\lvert \\nabla C \\cdot \\Delta v \\rvert \\leq \\lVert \\nabla C \\rVert \\lVert \\Delta v \\rVert\n",
    "$$\n",
    "\n",
    "Hence the smallest possible value of $ \\Delta C \\approx \\nabla C \\cdot \\Delta v$ is $-\\lVert \\nabla C \\rVert \\lVert \\Delta v \\rVert$, and this occurs when $\\Delta v \\propto -\\nabla C$.\n",
    "\n",
    "Since $\\lVert \\Delta v \\rVert = \\epsilon$, we can choose $v = -\\eta \\nabla C$ where $\\eta = \\frac{\\epsilon}{\\lVert \\nabla C \\rVert}$"
   ]
  },
  {
   "cell_type": "markdown",
   "metadata": {
    "collapsed": true
   },
   "source": [
    "When the function $C$ is a function of a single variable, then the method of gradient descent can be thought of as going down the slope on a 2D valley."
   ]
  },
  {
   "cell_type": "code",
   "execution_count": 48,
   "metadata": {
    "collapsed": false
   },
   "outputs": [
    {
     "data": {
      "text/plain": [
       "[<matplotlib.lines.Line2D at 0x1113df518>]"
      ]
     },
     "execution_count": 48,
     "metadata": {},
     "output_type": "execute_result"
    },
    {
     "data": {
      "image/png": "[encoded data removed]",
      "text/plain": [
       "<matplotlib.figure.Figure at 0x1113df4e0>"
      ]
     },
     "metadata": {},
     "output_type": "display_data"
    }
   ],
   "source": [
    "x = linspace(-3, 3)\n",
    "plot(x, x**2)\n",
    "axis('off')\n",
    "annotate('', xy=(1.5, 2), xytext=(2, 4),\n",
    "            arrowprops=dict(facecolor='black', shrink=0.05),\n",
    "            )\n",
    "plot(2, 4, 'ro')"
   ]
  },
  {
   "cell_type": "markdown",
   "metadata": {},
   "source": [
    "### Gradient descent applied to neural network"
   ]
  },
  {
   "cell_type": "markdown",
   "metadata": {},
   "source": [
    "Armed with an understanding of gradient descent method, let's see how this can be used to optimize our cosft function $C(w, b)$ with respect to the weights $w$ and biases $b$."
   ]
  },
  {
   "cell_type": "markdown",
   "metadata": {
    "collapsed": true
   },
   "source": [
    "Basically, our \"location\" in the search space will be defined by the combined vector $(w_1, \\ldots, w_k,\\ldots, b_1, \\ldots, b_l, \\ldots)^T$, with a corresponding $\\nabla C$ with components $\\frac{\\partial C}{\\partial w_k}$ and $\\frac{\\partial C}{\\partial b_l}$."
   ]
  },
  {
   "cell_type": "markdown",
   "metadata": {},
   "source": [
    "The update rule for each component of weights and biases will be:\n",
    "\n",
    "$$\n",
    "w_k^{(i+1)} = w_k^{(i)} - \\eta \\frac{\\partial C}{\\partial w_k}\n",
    "$$\n",
    "\n",
    "and \n",
    "\n",
    "$$\n",
    "b_l^{(i+1)} = b_l^{(i)} - \\eta \\frac{\\partial C}{\\partial b_l}\n",
    "$$"
   ]
  },
  {
   "cell_type": "markdown",
   "metadata": {},
   "source": [
    "#### Stochastic gradient descent"
   ]
  },
  {
   "cell_type": "markdown",
   "metadata": {},
   "source": [
    "Although the above update rules will allows us to look for a minimum in the const function $C$, the evaluation of the gradient of $C$ may be costly. To see this, recall that"
   ]
  },
  {
   "cell_type": "markdown",
   "metadata": {
    "collapsed": true
   },
   "source": [
    "\\begin{align}\n",
    "C(w, b) &= \\frac{1}{n}\\sum_x{C_x} \\\\\n",
    "&= \\frac{1}{n}\\sum_x{\\frac{\\lVert y(x) - a \\rVert^2}{2}}\n",
    "\\end{align}"
   ]
  },
  {
   "cell_type": "markdown",
   "metadata": {},
   "source": [
    "Note that the evaluation of the above cost function requires the evaluation of $C_x$ for each of the $n$ samples ($x$). Hence the computational load for evaluating $C$ as well as $\\nabla C$ scales linearly with the number of training samples $n$."
   ]
  },
  {
   "cell_type": "markdown",
   "metadata": {},
   "source": [
    "Unfortunately, this can be hindering as the number of samples increases because each cycle of update step may take a really long time! (You also have to consider the fact that the shape of the cost function *can* get more complex with more samples (as you are effectively mixing more functions!)"
   ]
  },
  {
   "cell_type": "markdown",
   "metadata": {},
   "source": [
    "How can we deal with this? One potential method is to *approximate* the $C(w, b)$ by *sampling* $m$ sample training points out of $n$ .\n",
    "\n",
    "$$\n",
    "\\frac{1}{m}\\sum_{j=1}^{m}{\\nabla C_{x_j}} \\approx \\frac{1}{n}\\sum_x {\\nabla C_x} = \\nabla C\n",
    "$$"
   ]
  },
  {
   "cell_type": "markdown",
   "metadata": {},
   "source": [
    "The above approximation tends to be better the more samples $m$ we use out of total of $n$ training data: that is it gets better as $m \\to n$."
   ]
  },
  {
   "cell_type": "markdown",
   "metadata": {},
   "source": [
    "Hence, to speed up our learning process when we have large number of training points (i.e. large $n$). This means that we can use this approximation in the update step, such that:\n",
    "\n",
    "The update rule for each component of weights and biases will be:\n",
    "\n",
    "$$\n",
    "w_k^{(i+1)} = w_k^{(i)} - \\frac{\\eta}{m} \\sum_{j=1}^{m} \\frac{\\partial C_{x_j}}{\\partial w_k}\n",
    "$$\n",
    "\n",
    "and \n",
    "\n",
    "$$\n",
    "b_l^{(i+1)} = b_l^{(i)} - \\frac{\\eta}{m} \\sum_{j=1}^{m} \\frac{\\partial C_{x_j}}{\\partial b_l}\n",
    "$$"
   ]
  },
  {
   "cell_type": "markdown",
   "metadata": {
    "collapsed": true
   },
   "source": [
    "Now it would be rather wasteful to use only $m$ out of $n$ samples you have. Can you make good use of the remaining $n-m$ samples? \n",
    "\n",
    "The trick here to use a *different set of $m$ samples* on each run of the above update algorithm, and you draw the set of $m$ samples from the remaining samples randomly. Hence, you complete the update on *mini-batches* of $m$ samples at a time, and repeat until you exhaust all $n$ samples, which is said to have *completed an epoch*. Once you complete an epoch (exhausted $n$ samples), you start over, repeating the process until training update converges."
   ]
  },
  {
   "cell_type": "markdown",
   "metadata": {},
   "source": [
    "The above described algorithm for *approximating* a full gradient descent procedure is known as *stochastic* gradient descent with mini-batch size of $m$. "
   ]
  },
  {
   "cell_type": "markdown",
   "metadata": {},
   "source": [
    "#### Learning rate $\\eta$"
   ]
  },
  {
   "cell_type": "markdown",
   "metadata": {},
   "source": [
    "When performing gradient descent with $n$ samples, notice that the term $\\eta$ is natually scaled by a factor $\\frac{1}{n}$ as shown below:\n",
    "\n",
    "$$\n",
    "w_k^{(i+1)} = w_k^{(i)} - \\eta \\frac{\\partial C}{\\partial w_k} = w_k^{(i)} - \\frac{\\eta}{n} \\sum_{j=i}^n {\\frac{\\partial C_{x_j}}{\\partial w_k}}\n",
    "$$\n",
    "\n",
    "and \n",
    "\n",
    "$$\n",
    "b_l^{(i+1)} = b_l^{(i)} - \\eta \\frac{\\partial C}{\\partial b_l} =  b_l^{(i)} - \\frac{\\eta}{n} \\sum_{j=1}^n{\\frac{\\partial C_{x_j}}{\\partial b_l}}\n",
    "$$\n"
   ]
  },
  {
   "cell_type": "markdown",
   "metadata": {},
   "source": [
    "The scaling by number of samples $\\frac{1}{n}$ is sometimes ommited, thus simply summing over invidual sample gradients rather than averaging. This is useful when the number of training samples is not known in advance (e.g. samples are getting generated dynamically)."
   ]
  },
  {
   "cell_type": "markdown",
   "metadata": {},
   "source": [
    "Stochastic gradient descent is compared to a political poll - *sampling*!"
   ]
  },
  {
   "cell_type": "markdown",
   "metadata": {},
   "source": [
    "#### Exercise"
   ]
  },
  {
   "cell_type": "markdown",
   "metadata": {},
   "source": [
    "An extreme version of stochastic gradient descent is to use mini-batch size of 1 ($m=1$)! That means, we update the parameters $w$ and $b$ by computing the gradient on one sample at a time. This procedure is known as *online* or *incremental* learning, and is often compared to *one-shot learning* in human beings."
   ]
  },
  {
   "cell_type": "markdown",
   "metadata": {},
   "source": [
    "One big advantage of this is the fact that the learning can take place *dynamically* as more samples are made available - when a new sample arise, we can simply update the parameter! Also of course the speed of computation is a benefit. You cannot get much simpler than computing just one gradient!"
   ]
  },
  {
   "cell_type": "markdown",
   "metadata": {},
   "source": [
    "However, using $m=1$ can cause the gradient to deviate largely from what the gradient would be for all samples together. This means that now there is more chance that an anomaly sample to (negatively) affect the learning compared to using larger mini-batch size. For example, if a training sample is *mislabeled*, it can have a strong effect on the network parameters, much more so than if it was just a sample out of $m$ samples in the mini-batch."
   ]
  },
  {
   "cell_type": "markdown",
   "metadata": {},
   "source": [
    "### Visualizing high dimensional space"
   ]
  },
  {
   "cell_type": "markdown",
   "metadata": {},
   "source": [
    "The author has a very good but all too often understated point in the dicussuion of working with high dimensional data. As the author points out, no one can *visualize* data in 4 dimensions or beyond (if you include color, perhaps 4D is actually *visualizable* but such method doesn't work for any higher dimension). The trick is to *extrapolate* intuition from lower dimension variants of the data. It is also common to see how something changes when transitioning from using 2D data to 3D data set, and to use this as the basis for imagining what happens in 4D and beyond."
   ]
  },
  {
   "cell_type": "markdown",
   "metadata": {},
   "source": [
    "## Summary"
   ]
  },
  {
   "cell_type": "markdown",
   "metadata": {},
   "source": [
    "I'm going to conclude Part 1 of the Chatper 1 at this point, as we have visited all concepts needed to now actually implement a neural network and train it on real data sets. In the next part, I'll cover the rest of the Chapter 1 where we actually tackle the problem of *implementing* and *training* a neural network to perform hand-written digit calssification, using everything we learned thus far!"
   ]
  }
 ],
 "metadata": {
  "kernelspec": {
   "display_name": "Python 3",
   "language": "python",
   "name": "python3"
  },
  "language_info": {
   "codemirror_mode": {
    "name": "ipython",
    "version": 3
   },
   "file_extension": ".py",
   "mimetype": "text/x-python",
   "name": "python",
   "nbconvert_exporter": "python",
   "pygments_lexer": "ipython3",
   "version": "3.4.3"
  }
 },
 "nbformat": 4,
 "nbformat_minor": 0
}

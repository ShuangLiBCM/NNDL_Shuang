{
 "cells": [
  {
   "cell_type": "markdown",
   "metadata": {},
   "source": [
    "The best way to figure out what a learning rule does and a code is to compare and read through them. Therefore, here I will compare two different codes of Oja's and BCM learning rule and compare them."
   ]
  },
  {
   "cell_type": "markdown",
   "metadata": {},
   "source": [
    "We will play with the MNIST data set and see some statistical property of the dataset, especially the different PCA components, factor analysis and ICA"
   ]
  },
  {
   "cell_type": "markdown",
   "metadata": {},
   "source": [
    "First, we will fetch the MNIST data and use 1/10 of the whole data sets for study."
   ]
  },
  {
   "cell_type": "code",
   "execution_count": 20,
   "metadata": {
    "collapsed": false
   },
   "outputs": [
    {
     "name": "stdout",
     "output_type": "stream",
     "text": [
      "Successfully downloaded train-images-idx3-ubyte.gz 9912422 bytes.\n",
      "Extracting MNIST_data/train-images-idx3-ubyte.gz\n",
      "Successfully downloaded train-labels-idx1-ubyte.gz 28881 bytes.\n",
      "Extracting MNIST_data/train-labels-idx1-ubyte.gz\n",
      "Successfully downloaded t10k-images-idx3-ubyte.gz 1648877 bytes.\n",
      "Extracting MNIST_data/t10k-images-idx3-ubyte.gz\n",
      "Successfully downloaded t10k-labels-idx1-ubyte.gz 4542 bytes.\n",
      "Extracting MNIST_data/t10k-labels-idx1-ubyte.gz\n"
     ]
    }
   ],
   "source": [
    "%reset -f\n",
    "# Load necessary library modules\n",
    "import numpy as np\n",
    "import matplotlib.pyplot as plt\n",
    "import tensorflow as tf\n",
    "% matplotlib inline\n",
    "\n",
    "#import tensorflow as tf\n",
    "import collections\n",
    "np.random.seed(seed=8723)\n",
    "# Two ways to load MNIST dataset\n",
    "# Using sklean\n",
    "# MNIST database contains a total of 70000 examples of handwritten digits of size 28*28 pixels, labeled 0 to 9\n",
    "from tensorflow.examples.tutorials.mnist import input_data\n",
    "mnist = input_data.read_data_sets(\"MNIST_data/\", one_hot=True)\n",
    "\n",
    "\n"
   ]
  },
  {
   "cell_type": "code",
   "execution_count": 18,
   "metadata": {
    "collapsed": false
   },
   "outputs": [
    {
     "ename": "OSError",
     "evalue": "could not read bytes",
     "output_type": "error",
     "traceback": [
      "\u001b[0;31m---------------------------------------------------------------------------\u001b[0m",
      "\u001b[0;31mOSError\u001b[0m                                   Traceback (most recent call last)",
      "\u001b[0;32m<ipython-input-18-c16e441ad770>\u001b[0m in \u001b[0;36m<module>\u001b[0;34m()\u001b[0m\n\u001b[1;32m     12\u001b[0m \u001b[0;31m# MNIST database contains a total of 70000 examples of handwritten digits of size 28*28 pixels, labeled 0 to 9\u001b[0m\u001b[0;34m\u001b[0m\u001b[0;34m\u001b[0m\u001b[0m\n\u001b[1;32m     13\u001b[0m \u001b[0;32mfrom\u001b[0m \u001b[0msklearn\u001b[0m\u001b[0;34m.\u001b[0m\u001b[0mdatasets\u001b[0m\u001b[0;34m.\u001b[0m\u001b[0mmldata\u001b[0m \u001b[0;32mimport\u001b[0m \u001b[0mfetch_mldata\u001b[0m\u001b[0;34m\u001b[0m\u001b[0m\n\u001b[0;32m---> 14\u001b[0;31m \u001b[0mmnist\u001b[0m \u001b[0;34m=\u001b[0m \u001b[0mfetch_mldata\u001b[0m\u001b[0;34m(\u001b[0m\u001b[0;34m'MNIST original'\u001b[0m\u001b[0;34m,\u001b[0m \u001b[0mdata_home\u001b[0m \u001b[0;34m=\u001b[0m \u001b[0;32mNone\u001b[0m\u001b[0;34m)\u001b[0m\u001b[0;34m\u001b[0m\u001b[0m\n\u001b[0m\u001b[1;32m     15\u001b[0m \u001b[0;34m\u001b[0m\u001b[0m\n\u001b[1;32m     16\u001b[0m \u001b[0;31m# Using tensorflow\u001b[0m\u001b[0;34m\u001b[0m\u001b[0;34m\u001b[0m\u001b[0m\n",
      "\u001b[0;32m/usr/local/lib/python3.4/dist-packages/sklearn/datasets/mldata.py\u001b[0m in \u001b[0;36mfetch_mldata\u001b[0;34m(dataname, target_name, data_name, transpose_data, data_home)\u001b[0m\n\u001b[1;32m    156\u001b[0m     \u001b[0;31m# load dataset matlab file\u001b[0m\u001b[0;34m\u001b[0m\u001b[0;34m\u001b[0m\u001b[0m\n\u001b[1;32m    157\u001b[0m     \u001b[0;32mwith\u001b[0m \u001b[0mopen\u001b[0m\u001b[0;34m(\u001b[0m\u001b[0mfilename\u001b[0m\u001b[0;34m,\u001b[0m \u001b[0;34m'rb'\u001b[0m\u001b[0;34m)\u001b[0m \u001b[0;32mas\u001b[0m \u001b[0mmatlab_file\u001b[0m\u001b[0;34m:\u001b[0m\u001b[0;34m\u001b[0m\u001b[0m\n\u001b[0;32m--> 158\u001b[0;31m         \u001b[0mmatlab_dict\u001b[0m \u001b[0;34m=\u001b[0m \u001b[0mio\u001b[0m\u001b[0;34m.\u001b[0m\u001b[0mloadmat\u001b[0m\u001b[0;34m(\u001b[0m\u001b[0mmatlab_file\u001b[0m\u001b[0;34m,\u001b[0m \u001b[0mstruct_as_record\u001b[0m\u001b[0;34m=\u001b[0m\u001b[0;32mTrue\u001b[0m\u001b[0;34m)\u001b[0m\u001b[0;34m\u001b[0m\u001b[0m\n\u001b[0m\u001b[1;32m    159\u001b[0m \u001b[0;34m\u001b[0m\u001b[0m\n\u001b[1;32m    160\u001b[0m     \u001b[0;31m# -- extract data from matlab_dict\u001b[0m\u001b[0;34m\u001b[0m\u001b[0;34m\u001b[0m\u001b[0m\n",
      "\u001b[0;32m/usr/local/lib/python3.4/dist-packages/scipy/io/matlab/mio.py\u001b[0m in \u001b[0;36mloadmat\u001b[0;34m(file_name, mdict, appendmat, **kwargs)\u001b[0m\n\u001b[1;32m    134\u001b[0m     \u001b[0mvariable_names\u001b[0m \u001b[0;34m=\u001b[0m \u001b[0mkwargs\u001b[0m\u001b[0;34m.\u001b[0m\u001b[0mpop\u001b[0m\u001b[0;34m(\u001b[0m\u001b[0;34m'variable_names'\u001b[0m\u001b[0;34m,\u001b[0m \u001b[0;32mNone\u001b[0m\u001b[0;34m)\u001b[0m\u001b[0;34m\u001b[0m\u001b[0m\n\u001b[1;32m    135\u001b[0m     \u001b[0mMR\u001b[0m \u001b[0;34m=\u001b[0m \u001b[0mmat_reader_factory\u001b[0m\u001b[0;34m(\u001b[0m\u001b[0mfile_name\u001b[0m\u001b[0;34m,\u001b[0m \u001b[0mappendmat\u001b[0m\u001b[0;34m,\u001b[0m \u001b[0;34m**\u001b[0m\u001b[0mkwargs\u001b[0m\u001b[0;34m)\u001b[0m\u001b[0;34m\u001b[0m\u001b[0m\n\u001b[0;32m--> 136\u001b[0;31m     \u001b[0mmatfile_dict\u001b[0m \u001b[0;34m=\u001b[0m \u001b[0mMR\u001b[0m\u001b[0;34m.\u001b[0m\u001b[0mget_variables\u001b[0m\u001b[0;34m(\u001b[0m\u001b[0mvariable_names\u001b[0m\u001b[0;34m)\u001b[0m\u001b[0;34m\u001b[0m\u001b[0m\n\u001b[0m\u001b[1;32m    137\u001b[0m     \u001b[0;32mif\u001b[0m \u001b[0mmdict\u001b[0m \u001b[0;32mis\u001b[0m \u001b[0;32mnot\u001b[0m \u001b[0;32mNone\u001b[0m\u001b[0;34m:\u001b[0m\u001b[0;34m\u001b[0m\u001b[0m\n\u001b[1;32m    138\u001b[0m         \u001b[0mmdict\u001b[0m\u001b[0;34m.\u001b[0m\u001b[0mupdate\u001b[0m\u001b[0;34m(\u001b[0m\u001b[0mmatfile_dict\u001b[0m\u001b[0;34m)\u001b[0m\u001b[0;34m\u001b[0m\u001b[0m\n",
      "\u001b[0;32m/usr/local/lib/python3.4/dist-packages/scipy/io/matlab/mio5.py\u001b[0m in \u001b[0;36mget_variables\u001b[0;34m(self, variable_names)\u001b[0m\n\u001b[1;32m    290\u001b[0m                 \u001b[0;32mcontinue\u001b[0m\u001b[0;34m\u001b[0m\u001b[0m\n\u001b[1;32m    291\u001b[0m             \u001b[0;32mtry\u001b[0m\u001b[0;34m:\u001b[0m\u001b[0;34m\u001b[0m\u001b[0m\n\u001b[0;32m--> 292\u001b[0;31m                 \u001b[0mres\u001b[0m \u001b[0;34m=\u001b[0m \u001b[0mself\u001b[0m\u001b[0;34m.\u001b[0m\u001b[0mread_var_array\u001b[0m\u001b[0;34m(\u001b[0m\u001b[0mhdr\u001b[0m\u001b[0;34m,\u001b[0m \u001b[0mprocess\u001b[0m\u001b[0;34m)\u001b[0m\u001b[0;34m\u001b[0m\u001b[0m\n\u001b[0m\u001b[1;32m    293\u001b[0m             \u001b[0;32mexcept\u001b[0m \u001b[0mMatReadError\u001b[0m \u001b[0;32mas\u001b[0m \u001b[0merr\u001b[0m\u001b[0;34m:\u001b[0m\u001b[0;34m\u001b[0m\u001b[0m\n\u001b[1;32m    294\u001b[0m                 warnings.warn(\n",
      "\u001b[0;32m/usr/local/lib/python3.4/dist-packages/scipy/io/matlab/mio5.py\u001b[0m in \u001b[0;36mread_var_array\u001b[0;34m(self, header, process)\u001b[0m\n\u001b[1;32m    250\u001b[0m            \u001b[0;31m`\u001b[0m\u001b[0mprocess\u001b[0m\u001b[0;31m`\u001b[0m\u001b[0;34m.\u001b[0m\u001b[0;34m\u001b[0m\u001b[0m\n\u001b[1;32m    251\u001b[0m         '''\n\u001b[0;32m--> 252\u001b[0;31m         \u001b[0;32mreturn\u001b[0m \u001b[0mself\u001b[0m\u001b[0;34m.\u001b[0m\u001b[0m_matrix_reader\u001b[0m\u001b[0;34m.\u001b[0m\u001b[0marray_from_header\u001b[0m\u001b[0;34m(\u001b[0m\u001b[0mheader\u001b[0m\u001b[0;34m,\u001b[0m \u001b[0mprocess\u001b[0m\u001b[0;34m)\u001b[0m\u001b[0;34m\u001b[0m\u001b[0m\n\u001b[0m\u001b[1;32m    253\u001b[0m \u001b[0;34m\u001b[0m\u001b[0m\n\u001b[1;32m    254\u001b[0m     \u001b[0;32mdef\u001b[0m \u001b[0mget_variables\u001b[0m\u001b[0;34m(\u001b[0m\u001b[0mself\u001b[0m\u001b[0;34m,\u001b[0m \u001b[0mvariable_names\u001b[0m\u001b[0;34m=\u001b[0m\u001b[0;32mNone\u001b[0m\u001b[0;34m)\u001b[0m\u001b[0;34m:\u001b[0m\u001b[0;34m\u001b[0m\u001b[0m\n",
      "\u001b[0;32mscipy/io/matlab/mio5_utils.pyx\u001b[0m in \u001b[0;36mscipy.io.matlab.mio5_utils.VarReader5.array_from_header (scipy/io/matlab/mio5_utils.c:7119)\u001b[0;34m()\u001b[0m\n",
      "\u001b[0;32mscipy/io/matlab/mio5_utils.pyx\u001b[0m in \u001b[0;36mscipy.io.matlab.mio5_utils.VarReader5.array_from_header (scipy/io/matlab/mio5_utils.c:6244)\u001b[0;34m()\u001b[0m\n",
      "\u001b[0;32mscipy/io/matlab/mio5_utils.pyx\u001b[0m in \u001b[0;36mscipy.io.matlab.mio5_utils.VarReader5.read_real_complex (scipy/io/matlab/mio5_utils.c:7572)\u001b[0;34m()\u001b[0m\n",
      "\u001b[0;32mscipy/io/matlab/mio5_utils.pyx\u001b[0m in \u001b[0;36mscipy.io.matlab.mio5_utils.VarReader5.read_numeric (scipy/io/matlab/mio5_utils.c:4323)\u001b[0;34m()\u001b[0m\n",
      "\u001b[0;32mscipy/io/matlab/mio5_utils.pyx\u001b[0m in \u001b[0;36mscipy.io.matlab.mio5_utils.VarReader5.read_element (scipy/io/matlab/mio5_utils.c:3913)\u001b[0;34m()\u001b[0m\n",
      "\u001b[0;32mscipy/io/matlab/streams.pyx\u001b[0m in \u001b[0;36mscipy.io.matlab.streams.GenericStream.read_string (scipy/io/matlab/streams.c:2182)\u001b[0;34m()\u001b[0m\n",
      "\u001b[0;32mscipy/io/matlab/streams.pyx\u001b[0m in \u001b[0;36mscipy.io.matlab.streams.GenericStream.read_into (scipy/io/matlab/streams.c:1977)\u001b[0;34m()\u001b[0m\n",
      "\u001b[0;31mOSError\u001b[0m: could not read bytes"
     ]
    }
   ],
   "source": [
    "%reset -f\n",
    "# Load necessary library modules\n",
    "import numpy as np\n",
    "import matplotlib.pyplot as plt\n",
    "% matplotlib inline\n",
    "\n",
    "#import tensorflow as tf\n",
    "import collections\n",
    "np.random.seed(seed=8723)\n",
    "# Two ways to load MNIST dataset\n",
    "# Using sklean\n",
    "# MNIST database contains a total of 70000 examples of handwritten digits of size 28*28 pixels, labeled 0 to 9\n",
    "from sklearn.datasets.mldata import fetch_mldata\n",
    "mnist = fetch_mldata('MNIST original', data_home = None)\n",
    "\n",
    "# Using tensorflow\n",
    "from tensorflow.examples.tutorials.mnist import input_data\n",
    "mnist = input_data.read_data_sets(\"MNIST_data/\", one_hot=True)\n",
    "\n",
    "# Plot a gallery of images\n",
    "def plot_gallery(images, titles, h, w, n_row=3, n_col=4):\n",
    "    \"\"\"Helper function to plot a gallery of images\"\"\"\n",
    "    plt.figure(figsize=(1.8 * n_col, 2.4 * n_row))\n",
    "    plt.subplots_adjust(bottom=0, left=.01, right=.99, top=.90, hspace=.35)\n",
    "    for i in range(n_row * n_col):\n",
    "        plt.subplot(n_row, n_col, i + 1)\n",
    "        plt.imshow(images[i], cmap=plt.cm.gray)\n",
    "        plt.title(titles[i], size=12)\n",
    "        plt.xticks(())\n",
    "        plt.yticks(())\n",
    "\n",
    "h = 28     # height of the digit\n",
    "w = 28     # width of the digit\n",
    "\n",
    "data = np.vstack(mnist.data.data.obj).astype(float)\n",
    "data = data.reshape((-1, h, w))\n",
    "data = data[:,::2,::2]\n",
    "\n",
    "h /=2\n",
    "w /=2\n",
    "\n",
    "data = data.reshape((-1, h*w))\n",
    "labels = mnist.target\n",
    "portion = 1.\n",
    "N = int(portion*data.shape[0])\n",
    "shuffle_idx = np.random.permutation(data.shape[0])[:N]\n",
    "data = data[shuffle_idx]\n",
    "# shuffle_idx = np.random.permutation(data.shape[0])[:N]\n",
    "labels = labels[shuffle_idx]\n",
    "\n",
    "# demean\n",
    "ave_total = data.mean(axis=0)\n",
    "data -= ave_total \n",
    "\n",
    "\n",
    "plt.imshow(ave_total.reshape(h,w),cmap=plt.cm.gray)\n",
    "# Visualize the demeaned digits\n",
    "plt_row = 3\n",
    "plt_col = 7\n",
    "data_view = []\n",
    "titles_view = []\n",
    "for i in range(plt_row*plt_col+1):\n",
    "    data_view.append(data[i,:].reshape(h,w))\n",
    "    titles_view.append(labels[i])\n",
    "\n",
    "plot_gallery(data_view, titles_view, h, w, n_row=plt_row, n_col=plt_col)\n",
    "\n",
    "# To see what BCM learning rule is really doing, we will compare it with using PCA, ICA on MNIST\n",
    "\n",
    "# See the downloaded MNIST data\n",
    "#a = np.where(labels == 3,1,0)\n",
    "#collections.Counter(a)y\n",
    "# Take a small portion of the dyataset"
   ]
  },
  {
   "cell_type": "markdown",
   "metadata": {},
   "source": [
    "Compute the principle component of each group of digits. We need to sort the data_sm based on the label"
   ]
  },
  {
   "cell_type": "code",
   "execution_count": null,
   "metadata": {
    "collapsed": false
   },
   "outputs": [],
   "source": [
    "group_id = []\n",
    "ave_digi = []\n",
    "for i in range(10):\n",
    "    group_id_tmp = labels == i\n",
    "    group_id.append(group_id_tmp)\n",
    "    ave_digi_tmp = data[group_id_tmp,:].mean(axis=0)\n",
    "    ave_digi.append(ave_digi_tmp.reshape(h,w))\n",
    "    \n",
    "# plot the average image of each digit\n",
    "plt_row = 2\n",
    "plt_col = 5\n",
    "\n",
    "titles_digi= range(10)\n",
    "\n",
    "plot_gallery(ave_digi, titles_digi, h, w, n_row=plt_row, n_col=plt_col)"
   ]
  },
  {
   "cell_type": "markdown",
   "metadata": {
    "collapsed": false
   },
   "source": []
  },
  {
   "cell_type": "code",
   "execution_count": 27,
   "metadata": {
    "collapsed": false
   },
   "outputs": [
    {
     "data": {
      "text/plain": [
       "(20, 196)"
      ]
     },
     "execution_count": 27,
     "metadata": {},
     "output_type": "execute_result"
    }
   ],
   "source": [
    "pca.components_.shape"
   ]
  },
  {
   "cell_type": "code",
   "execution_count": null,
   "metadata": {
    "collapsed": false
   },
   "outputs": [],
   "source": [
    "# PCA analysis\n",
    "from time import time\n",
    "from sklearn.decomposition import RandomizedPCA\n",
    "from sklearn.cross_validation import train_test_split\n",
    "# Split into training and testing dataset\n",
    "data_train,data_test,labels_train, labels_test = train_test_split(data,labels,test_size = 0 , random_state = 8723)\n",
    "\n",
    "# Compute the PCA (eigendigits) on the digits\n",
    "n_components = 20\n",
    "\n",
    "print(\"Extracting the top %d eigendigits from %d faces\" % (n_components,data_train.shape[0]))\n",
    "t0 = time()\n",
    "pca = RandomizedPCA(n_components = n_components, whiten = False).fit(data_train)\n",
    "print(\"done in %0.3fs\" % (time()-t0))\n",
    "\n",
    "h = 14\n",
    "w = 14\n",
    "eigendigits = pca.components_.reshape((n_components,h,w))\n",
    "eigendigits_titles = [\"eigendigits %d\" % i for i in range (pca.components_.shape[0])]\n",
    "plot_gallery(eigendigits,eigendigits_titles,h,w,n_row= 4, n_col=5)\n"
   ]
  },
  {
   "cell_type": "code",
   "execution_count": null,
   "metadata": {
    "collapsed": false,
    "scrolled": true
   },
   "outputs": [],
   "source": [
    "# Perform ICA analysis\n",
    "from sklearn.decomposition import FastICA\n",
    "\n",
    "# Split into training and testing dataset\n",
    "data_train,data_test,labels_train, labels_test = train_test_split(data,labels,test_size = 0 , random_state = 8723)\n",
    "\n",
    "# Compute the ICA (eigendigits) on the digits\n",
    "n_components = 20\n",
    "\n",
    "print(\"Extracting the top %d icadigits from %d faces\" % (n_components,data_train.shape[0]))\n",
    "t0 = time()\n",
    "ica = FastICA(n_components = n_components, whiten = True).fit(data_train)\n",
    "print(\"done in %0.3fs\" % (time()-t0))\n",
    "\n",
    "h = 14\n",
    "w = 14\n",
    "icadigits = ica.components_.reshape((n_components,h,w))\n",
    "icadigits_titles = [\"icadigits %d\" % i for i in range (ica.components_.shape[0])]\n",
    "plot_gallery(icadigits,icadigits_titles,h,w,n_row= 4, n_col=5)\n"
   ]
  },
  {
   "cell_type": "code",
   "execution_count": null,
   "metadata": {
    "collapsed": false
   },
   "outputs": [],
   "source": [
    "# Train Oja's rule with customized code\n",
    "data_train,data_test,labels_train, labels_test = train_test_split(data,labels,test_size = 0 , random_state = 8723)\n",
    "\n",
    "class Oja(object):\n",
    "    \"\"\"Oja learning\n",
    "    Parameter:\n",
    "    eta: float, learning rate (between 0.0 - 1.0)\n",
    "    n_iter: int, passes over the training dataset\n",
    "    ny: number of output neurons\n",
    "    batchsize: float, percentage of data that are used to update the weight once\n",
    "    \n",
    "    Attributes:\n",
    "    w_: 1d-array, weights after fitting\n",
    "    error_: list, number of misclassification in every epoch\n",
    "    \"\"\"\n",
    "    def __init__(self, eta = 0.1,n_iter = 10,ny = 1,batchsize = 100):\n",
    "        self.eta = eta\n",
    "        self.n_iter = n_iter\n",
    "        self.ny = ny\n",
    "        self.batchsize = batchsize\n",
    "        \n",
    "    def fit(self,X):\n",
    "        \"\"\"fitting training data\n",
    "        Parameter:\n",
    "        X: {array-like}, shape = [n_samples,n_features]\n",
    "        Returns: self:object\n",
    "        ny: value, number of output neurons\n",
    "        \"\"\"\n",
    "        # Weights initialized as normal distribution\n",
    "        self.w_ = np.random.randn(len(X[1,:]),self.ny)  # 196*20\n",
    "        self.error_ = []\n",
    "        \n",
    "# # Use elementwise training      \n",
    "#         for _ in range(self.n_iter):\n",
    "#             for i in range(len(X[:,1])):   # 70000, elementwise training for all samples\n",
    "#                 xi = X[i,:]           # 1*196\n",
    "#                 y = np.dot(xi,self.w_)     # 1*20\n",
    "#                 for j in range(len(y)):\n",
    "#                     recons =  y[j]*self.w_[:,j] \n",
    "#                     err_tmp = xi[:,None] - recons[:,None]      # 196*1 \n",
    "#                     update = self.eta * y[j]*err_tmp  # 196*20 \n",
    "#                     self.w_[:,j][:,None]+= update   # Update weights\n",
    "#         return self\n",
    "\n",
    "# Learning rule goes here\n",
    "# Use batch training\n",
    "        for _ in range(self.n_iter):\n",
    "            minibatch = round(len(X[:,1])/self.batchsize)\n",
    "            for i in range(minibatch):   # 70000, elementwise training for all samples\n",
    "                xi = X[i*self.batchsize:(i+1)*self.batchsize,:].mean(axis = 0)   # 1*196 Average batch before training \n",
    "                y = np.dot(xi,self.w_)     # 1*20\n",
    "                for j in range(len(y)):\n",
    "                    recons =  y[j]*self.w_[:,j] \n",
    "                    recons_err = xi[:,None] - recons[:,None]      # 196*1 \n",
    "                    update = self.eta * y[j]*recons_err  # 196*20 \n",
    "                    self.w_[:,j][:,None]+= update   # Update weights\n",
    "        return self\n",
    "    \n",
    "ny = 20\n",
    "\n",
    "# batchsize = 1, eta = 0.0000000005,n_iter = 100\n",
    "# batchsize = 100, eta = 0.000005,n_inter = 1-\n",
    "Oja_mnist = Oja(eta = 0.000005,n_iter = 10, ny = ny,batchsize = 100)\n",
    "\n",
    "t0 = time()\n",
    "Oja_mnist.fit(data_train)\n",
    "print(\"done in %0.3fs\" % (time()-t0))\n",
    "\n",
    "h = 14\n",
    "w = 14\n",
    "ojadigits = []\n",
    "for i in range(ny):\n",
    "    ojadigits_tmp = Oja_mnist.w_[:,i];\n",
    "    ojadigits.append(ojadigits_tmp.reshape(h,w))\n",
    "    \n",
    "ojadigits_titles = [\"ojadigits %d\" % i for i in range (ny)]\n",
    "plot_gallery(ojadigits,ojadigits_titles,h,w,n_row= 4, n_col=5)"
   ]
  },
  {
   "cell_type": "markdown",
   "metadata": {},
   "source": [
    "From the above Oja's rule implementation we could see the relationship among learning rate, batchsize and n_iter. When using elementwise implementation, we would like to have small learning rate to prevent blow up. With larger batch size, we could using bigger learning rate, or actually adapt the learing rate."
   ]
  },
  {
   "cell_type": "code",
   "execution_count": null,
   "metadata": {
    "collapsed": false
   },
   "outputs": [],
   "source": [
    "# Use the iris 2D data\n",
    "import pandas as pd\n",
    "df = pd.read_csv('https://archive.ics.uci.edu/ml/machine-learning-databases/iris/iris.data', header=None)\n",
    "df.tail()   # Visualize in the table last rows of the dataframe\n",
    "\n",
    "y = df.iloc[:, 4].values  # pandas dataframe, select data by location index\n",
    "y = np.where(y == 'Iris-setosa',1,-1)\n",
    "X = df.iloc[:,[0,2]].values\n",
    "\n",
    "\n",
    "# Shuffle the iris data preparing for training\n",
    "shuffle_idx = np.random.permutation(len(X[:,1]))[:N]\n",
    "X = X[shuffle_idx]    # 150*2\n",
    "#X -= X.mean(axis = 0)\n",
    "y = y[shuffle_idx]\n",
    "\n",
    "plt.scatter(X[:,0],X[:,1],color = 'red',marker = 'o')\n",
    "#plt.scatter(X[500:100,0],X[500:100,1],color = 'blue', marker = '*', label = 'versicolor')\n",
    "plt.xlabel('petal length')\n",
    "plt.ylabel('sepal length')\n",
    "\n"
   ]
  },
  {
   "cell_type": "code",
   "execution_count": null,
   "metadata": {
    "collapsed": false
   },
   "outputs": [],
   "source": [
    "# Check activity distribution with random initializtion of w\n",
    "# np.random.seed(seed=8723)\n",
    "w = np.random.randn(len(X.T)) # 2*100\n",
    "# Generate output from data and one random initialization of weights\n",
    "y = np.dot(X,w) # 150*2 , 2*1\n",
    "y[y<0]=0\n",
    "\n",
    "# the histogram of the output\n",
    "n, bins, patches = plt.hist(y)"
   ]
  },
  {
   "cell_type": "code",
   "execution_count": null,
   "metadata": {
    "collapsed": false
   },
   "outputs": [],
   "source": [
    "# BCM class\n",
    "from scipy.ndimage.filters import convolve1d\n",
    "\n",
    "class BCM:\n",
    "    \"\"\"BCM learning\n",
    "    Parameter:\n",
    "    eta: float, learning rate (between 0.0 - 1.0)\n",
    "    n_iter: int, passes over the training dataset\n",
    "    ny: number of output neurons\n",
    "    batchsize: float, percentage of data that are used to update the weight once\n",
    "    \n",
    "    Attributes:\n",
    "    w_: 1d-array, weights after fitting\n",
    "    error_: list, number of misclassification in every epoch\n",
    "    \"\"\"\n",
    "    def __init__(self, eta = 0.1,n_iter = 10,ny = 1,tau = 10, batchsize = 10,thres = 0, p = 2):\n",
    "        self.eta = eta\n",
    "        self.n_iter = n_iter\n",
    "        self.ny = ny\n",
    "        self.batchsize = batchsize\n",
    "        self.tau = tau,   # Time constant for calculating thresholds\n",
    "        self.thres = [thres*np.ones(ny)]\n",
    "        self.p = p    # int, power for threshold computation\n",
    "        self.y_thres = []      # Storaged y for studying effect of threshold\n",
    "        \n",
    "    def fit(self,X):\n",
    "        \"\"\"fitting training data\n",
    "        Parameter:\n",
    "        X: {array-like}, shape = [n_samples,n_features]\n",
    "        Returns: self:object\n",
    "        ny: value, number of output neurons\n",
    "        \"\"\"\n",
    "        # Weights initialized as normal distribution\n",
    "        self.w_ = np.random.randn(X.shape[1],self.ny) # 2*1\n",
    "        self.w_track = [];\n",
    "        # Use elementwise training \n",
    "        for _ in range(self.n_iter):\n",
    "            for i, xi in enumerate(X):   # 150, elementwise training for all samples\n",
    "                threshold = self.thres[-1]\n",
    "                y = np.dot(xi,self.w_)     # 1\n",
    "                y[y < 0] = 0\n",
    "                self.y_thres.append(y)\n",
    "                y = np.atleast_2d(y)\n",
    "                self.w_track.append(self.w_)\n",
    "                self.w_ = self.w_+ self.eta * xi[:,None] * y * (y - threshold)\n",
    "                y_power = np.vstack(self.y_thres).T ** self.p    # Element wise computation?\n",
    "                n = y_power.shape[1]\n",
    "                t = np.arange(n)\n",
    "                h = np.exp(-t/self.tau)\n",
    "                theta = np.vstack([np.convolve(yp, h, mode='full')[:n] for yp in y_power])/self.tau\n",
    "                self.thres.append(theta[:,-1])\n",
    "#                 y = np.vstack(self.y_thres).T\n",
    "        return self"
   ]
  },
  {
   "cell_type": "code",
   "execution_count": 26,
   "metadata": {
    "collapsed": false
   },
   "outputs": [
    {
     "name": "stdout",
     "output_type": "stream",
     "text": [
      "done in 12.882s\n"
     ]
    },
    {
     "data": {
      "image/png": "[encoded data removed]",
      "text/plain": [
       "<matplotlib.figure.Figure at 0x7efdfe916828>"
      ]
     },
     "metadata": {},
     "output_type": "display_data"
    },
    {
     "data": {
      "image/png": "[encoded data removed]",
      "text/plain": [
       "<matplotlib.figure.Figure at 0x7efdf784ea20>"
      ]
     },
     "metadata": {},
     "output_type": "display_data"
    }
   ],
   "source": [
    "# Train BCM model with Iris data, (sample size might be too small)\n",
    "from sklearn.cross_validation import train_test_split\n",
    "\n",
    "data_train,data_test,labels_train, labels_test = train_test_split(X,y,test_size = 0 , random_state = 8723)\n",
    "\n",
    "ny = 2\n",
    "n_iter = 20\n",
    "p = 2\n",
    "eta = 0.00001\n",
    "tau = 200\n",
    "BCM_iris = BCM(eta = eta,n_iter = n_iter,ny = 2,tau = 200, batchsize = 0,thres = 0, p = p)\n",
    "\n",
    "#print(\"Training with Oja's rule from %d digits\" % (n_components,data_train.shape[0]))\n",
    "t0 = time()\n",
    "BCM_iris.fit(data_train)\n",
    "print(\"done in %0.3fs\" % (time()-t0))\n",
    "\n",
    "#x_plot = range(n_iter * len(X))\n",
    "plt_range = n_iter * len(X)\n",
    "BCM_iris_thres = np.vstack(BCM_iris.thres)\n",
    "BCM_iris_out = np.vstack(BCM_iris.y_thres)\n",
    "#BCM_iris_w = np.vstack(BCM_iris.w_track)\n",
    "\n",
    "n_row = 1\n",
    "n_column = ny\n",
    "\n",
    "BCMiris_titles= [\"BCM outputs %d\" % i for i in range (ny)]\n",
    "# Plot y and threshold\n",
    "for i in range(ny):\n",
    "    plt.subplot(n_row,n_column,i+1)\n",
    "    plt.plot(BCM_iris_out[:plt_range,i],'g-',label = 'output')\n",
    "    plt.plot(BCM_iris_thres[:plt_range,i],'r--',label = 'threshold')\n",
    "    plt.title(BCMiris_titles[i])\n",
    "\n",
    "plt.legend(loc = 'upper right')\n",
    "\n",
    "plt.figure()\n",
    "# Plot weights\n",
    "BCMiris_title_w = [\"BCM weights %d\" % i for i in range (ny)]\n",
    "\n",
    "for i in range(ny):\n",
    "    plt.subplot(n_row,n_column,i+1)\n",
    "    for j in range(0,plt_range,20):\n",
    "        plt.plot(BCM_iris.w_track[j][0,i],BCM_iris.w_track[j][1,i],'ro',label = 'weight')\n",
    "        plt.plot(BCM_iris.w_track[0][0,i],BCM_iris.w_track[0][1,i],'go',label = 'weight')\n",
    "        plt.plot(BCM_iris.w_track[plt_range-1][0,i],BCM_iris.w_track[plt_range-1][1,i],'yo',label = 'weight')\n",
    "    plt.title(BCMiris_title_w[i])\n"
   ]
  },
  {
   "cell_type": "code",
   "execution_count": null,
   "metadata": {
    "collapsed": false
   },
   "outputs": [],
   "source": [
    "# Train BCM model with MINIST data\n",
    "data_train,data_test,labels_train, labels_test = train_test_split(data,labels,test_size = 0 , random_state = 8723)\n",
    "\n",
    "ny = 2\n",
    "n_iter = 20\n",
    "p = 2\n",
    "eta = 0.00001\n",
    "tau = 200\n",
    "BCM_iris = BCM(eta = eta,n_iter = n_iter,ny = 2,tau = 200, batchsize = 0,thres = 0, p = p)\n",
    "\n",
    "#print(\"Training with Oja's rule from %d digits\" % (n_components,data_train.shape[0]))\n",
    "t0 = time()\n",
    "BCM_iris.fit(data_train)\n",
    "print(\"done in %0.3fs\" % (time()-t0))\n",
    "\n",
    "\n",
    "n_row = 1\n",
    "n_col = ny\n",
    "\n",
    "ojadigits_titles = [\"BCM outputs %d\" % i for i in range (ny)]\n",
    "h = 14\n",
    "w = 14\n",
    "ojadigits = []\n",
    "for i in range(ny):\n",
    "    ojadigits_tmp = Oja_mnist.w_[:,i];\n",
    "    ojadigits.append(ojadigits_tmp.reshape(h,w))\n",
    "    \n",
    "ojadigits_titles = [\"ojadigits %d\" % i for i in range (ny)]\n",
    "plot_gallery(ojadigits,ojadigits_titles,h,w,n_row= n_row, n_col= n_col )\n"
   ]
  },
  {
   "cell_type": "code",
   "execution_count": 267,
   "metadata": {
    "collapsed": false
   },
   "outputs": [
    {
     "data": {
      "text/plain": [
       "0"
      ]
     },
     "execution_count": 267,
     "metadata": {},
     "output_type": "execute_result"
    }
   ],
   "source": [
    "i"
   ]
  },
  {
   "cell_type": "code",
   "execution_count": 194,
   "metadata": {
    "collapsed": false
   },
   "outputs": [
    {
     "data": {
      "image/png": "[encoded data removed]",
      "text/plain": [
       "<matplotlib.figure.Figure at 0x7f778903a2e8>"
      ]
     },
     "metadata": {},
     "output_type": "display_data"
    }
   ],
   "source": [
    "y2 = np.dot(X,BCM_iris.w_[:,0])\n",
    "n, bins, patches = plt.hist(y2)\n",
    "y3 = np.dot(X,BCM_iris.w_[:,1])\n",
    "n, bins, patches = plt.hist(y3)"
   ]
  },
  {
   "cell_type": "code",
   "execution_count": 193,
   "metadata": {
    "collapsed": false
   },
   "outputs": [
    {
     "data": {
      "image/png": "[encoded data removed]",
      "text/plain": [
       "<matplotlib.figure.Figure at 0x7f77891b0b70>"
      ]
     },
     "metadata": {},
     "output_type": "display_data"
    }
   ],
   "source": []
  },
  {
   "cell_type": "code",
   "execution_count": 190,
   "metadata": {
    "collapsed": false
   },
   "outputs": [],
   "source": [
    "hist(y2)"
   ]
  },
  {
   "cell_type": "code",
   "execution_count": null,
   "metadata": {
    "collapsed": true
   },
   "outputs": [],
   "source": []
  }
 ],
 "metadata": {
  "kernelspec": {
   "display_name": "Python 3",
   "language": "python",
   "name": "python3"
  },
  "language_info": {
   "codemirror_mode": {
    "name": "ipython",
    "version": 3
   },
   "file_extension": ".py",
   "mimetype": "text/x-python",
   "name": "python",
   "nbconvert_exporter": "python",
   "pygments_lexer": "ipython3",
   "version": "3.4.3"
  }
 },
 "nbformat": 4,
 "nbformat_minor": 0
}
